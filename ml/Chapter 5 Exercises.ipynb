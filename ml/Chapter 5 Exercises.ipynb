{
 "cells": [
  {
   "cell_type": "code",
   "execution_count": 28,
   "metadata": {},
   "outputs": [],
   "source": [
    "#Taken from textbook solutions\n",
    "# Python ≥3.5 is required\n",
    "import sys\n",
    "assert sys.version_info >= (3, 5)\n",
    "\n",
    "# Scikit-Learn ≥0.20 is required\n",
    "import sklearn\n",
    "assert sklearn.__version__ >= \"0.20\"\n",
    "\n",
    "# Common imports\n",
    "import numpy as np\n",
    "import os\n",
    "\n",
    "# to make this notebook's output stable across runs\n",
    "np.random.seed(42)\n",
    "\n",
    "# To plot pretty figures\n",
    "%matplotlib inline\n",
    "import matplotlib as mpl\n",
    "import matplotlib.pyplot as plt\n",
    "mpl.rc('axes', labelsize=14)\n",
    "mpl.rc('xtick', labelsize=12)\n",
    "mpl.rc('ytick', labelsize=12)\n",
    "\n",
    "# Where to save the figures\n",
    "PROJECT_ROOT_DIR = \".\"\n",
    "CHAPTER_ID = \"svm\"\n",
    "IMAGES_PATH = os.path.join(PROJECT_ROOT_DIR, \"images\", CHAPTER_ID)\n",
    "os.makedirs(IMAGES_PATH, exist_ok=True)\n",
    "\n",
    "def save_fig(fig_id, tight_layout=True, fig_extension=\"png\", resolution=300):\n",
    "    path = os.path.join(IMAGES_PATH, fig_id + \".\" + fig_extension)\n",
    "    print(\"Saving figure\", fig_id)\n",
    "    if tight_layout:\n",
    "        plt.tight_layout()\n",
    "    plt.savefig(path, format=fig_extension, dpi=resolution)\n"
   ]
  },
  {
   "cell_type": "code",
   "execution_count": 29,
   "metadata": {},
   "outputs": [
    {
     "data": {
      "text/plain": [
       "'Hands-On Exercises: '"
      ]
     },
     "execution_count": 29,
     "metadata": {},
     "output_type": "execute_result"
    }
   ],
   "source": [
    "\"\"\"\n",
    "    Question 1:\n",
    "        The fundamental idea behind SVM's is to seperate data into two classes while focusing on creating as much \"space\" between the classes\n",
    "        This is done to prevent instances from being between the two classes, allowing the machine to make confident decisions.\n",
    "        \n",
    "    Question 2:\n",
    "        Support vectors are those instances between classes of a SVM. Decision boundaries are produced using support vectors and this means\n",
    "        predictions are made based off of these instances alone.\n",
    "        \n",
    "    Question 3:\n",
    "        SVM's work best on scaled data, or even requires scaled data. This is because SVM's can miss small features, because they will be overshadowed\n",
    "        by the larger ones.\n",
    "    \n",
    "    Question 4:\n",
    "        Since SVM's use decision boundaries to make predictions, the distance of one instance to the nearest decision boundary can be used to determine\n",
    "        confidence. The nearer to a boundary an instance is, the less confident the prediction. This distance, however, does not directly relate to probability.\n",
    "        \n",
    "    Question 5:\n",
    "        Primal SVM's have complexities proportional to the number of instances in the training set. On the other hand, the dual form would have a complexity \n",
    "        proportional to the number of instances cubed. In fact, the complexity could only go as low as the number of instances squared. For such a large\n",
    "        training set, one million instances, you should really use a primal SVM.\n",
    "        \n",
    "    Question 6:\n",
    "        Underfitting is typical when Overregularization occurs. To correct this, gamma and C could be increased.\n",
    "        \n",
    "    Question 7:\n",
    "        The parameters should be based off of the hard margin problem. H would instead be a matrix with the hard constrain value for H at the leftmost and upmost \n",
    "        position with rows of zeroes and columns of zeroes on the side and below. There should be rows of zeroes and m columns, where m is the number of added \n",
    "        parameters needed to configure the soft margin. f would be the same as the hard margin f, but with m more elements, all equal to C. b is a similar case to\n",
    "        f, having m more elements, those equalling 0. A would now be a matrix with the previous A at the top left, an identity matrix of size m and its negative \n",
    "        would fill the right column. The bottom left entry of A would be a zero.\n",
    "        \n",
    "\"\"\"\n",
    "\"Hands-On Exercises: \""
   ]
  },
  {
   "cell_type": "code",
   "execution_count": 30,
   "metadata": {},
   "outputs": [],
   "source": [
    "#   Question 8: \n",
    "    #   Train a LinearSVC on a linearly separable dataset. Then train an SVC and a \n",
    "    #   SGDClassifier on the same dataset. See if you can get them to produce roughly\n",
    "    #   the same model.\n",
    "    #The solution set uses the Iris database, so I will try to as well\n",
    "from sklearn import datasets\n",
    "\n",
    "iris = datasets.load_iris()\n",
    "X = iris[\"data\"][:, (2, 3)]  # petal length, petal width\n",
    "y = iris[\"target\"]\n",
    "\n",
    "setosa_or_versicolor = (y == 0) | (y == 1)\n",
    "X = X[setosa_or_versicolor]\n",
    "y = y[setosa_or_versicolor]"
   ]
  },
  {
   "cell_type": "code",
   "execution_count": 31,
   "metadata": {},
   "outputs": [
    {
     "name": "stdout",
     "output_type": "stream",
     "text": [
      "LinearSVC:                    [0.28475098] [[1.05364854 1.09903804]]\n",
      "SVC:                          [0.31896852] [[1.1203284  1.02625193]]\n",
      "SGDClassifier(alpha=0.00200): [0.118] [[0.77647131 0.73001593]]\n"
     ]
    }
   ],
   "source": [
    "from sklearn.svm import SVC, LinearSVC\n",
    "from sklearn.linear_model import SGDClassifier\n",
    "from sklearn.preprocessing import StandardScaler\n",
    "\n",
    "\n",
    "\n",
    "a = 1 / (4 * len(X))\n",
    "\n",
    "linearClassifier = LinearSVC(loss=\"hinge\", C=4) #my linear classifier\n",
    "svmClassifier = SVC(kernel=\"linear\", C=4) #my SVC classifier\n",
    "sgdClassifier = SGDClassifier(loss=\"hinge\", learning_rate=\"constant\", eta0=0.001, alpha=(1 / (5 * len(X))),\n",
    "                        max_iter=1000, tol=1e-3)#my SGD classifier\n",
    "\n",
    "scaler = StandardScaler()\n",
    "XstdScale = scaler.fit_transform(X) #Scaled data is preffered for SGD, so to use the 'same dataset' lets use it for all\n",
    "\n",
    "linearClassifier.fit(XstdScale, y)\n",
    "svmClassifier.fit(XstdScale, y)\n",
    "sgdClassifier.fit(XstdScale, y)\n",
    "\n",
    "#Making output pretty is not super neccessary, so I grabbed this from the solutions and put in my var names\n",
    "\n",
    "print(\"LinearSVC:                   \", linearClassifier.intercept_, linearClassifier.coef_)\n",
    "print(\"SVC:                         \", svmClassifier.intercept_, svmClassifier.coef_)\n",
    "print(\"SGDClassifier(alpha={:.5f}):\".format(sgdClassifier.alpha), sgdClassifier.intercept_, sgdClassifier.coef_)\n"
   ]
  },
  {
   "cell_type": "code",
   "execution_count": 32,
   "metadata": {},
   "outputs": [
    {
     "data": {
      "image/png": "[encoded data removed]",
      "text/plain": [
       "<Figure size 792x288 with 1 Axes>"
      ]
     },
     "metadata": {
      "needs_background": "light"
     },
     "output_type": "display_data"
    }
   ],
   "source": [
    "# Compute the slope and bias of each decision boundary\n",
    "w1 = -linearClassifier.coef_[0, 0]/linearClassifier.coef_[0, 1]\n",
    "b1 = -linearClassifier.intercept_[0]/linearClassifier.coef_[0, 1]\n",
    "w2 = -svmClassifier.coef_[0, 0]/svmClassifier.coef_[0, 1]\n",
    "b2 = -svmClassifier.intercept_[0]/svmClassifier.coef_[0, 1]\n",
    "w3 = -sgdClassifier.coef_[0, 0]/sgdClassifier.coef_[0, 1]\n",
    "b3 = -sgdClassifier.intercept_[0]/sgdClassifier.coef_[0, 1]\n",
    "\n",
    "# Transform the decision boundary lines back to the original scale\n",
    "line1 = scaler.inverse_transform([[-10, -10 * w1 + b1], [10, 10 * w1 + b1]])\n",
    "line2 = scaler.inverse_transform([[-10, -10 * w2 + b2], [10, 10 * w2 + b2]])\n",
    "line3 = scaler.inverse_transform([[-10, -10 * w3 + b3], [10, 10 * w3 + b3]])\n",
    "\n",
    "# Plot all three decision boundaries\n",
    "plt.figure(figsize=(11, 4))\n",
    "plt.plot(line1[:, 0], line1[:, 1], \"k:\", label=\"LinearSVC\")\n",
    "plt.plot(line2[:, 0], line2[:, 1], \"b--\", linewidth=2, label=\"SVC\")\n",
    "plt.plot(line3[:, 0], line3[:, 1], \"r-\", label=\"SGDClassifier\")\n",
    "plt.plot(X[:, 0][y==1], X[:, 1][y==1], \"bs\") # label=\"Iris versicolor\"\n",
    "plt.plot(X[:, 0][y==0], X[:, 1][y==0], \"yo\") # label=\"Iris setosa\"\n",
    "plt.xlabel(\"Petal length\", fontsize=14)\n",
    "plt.ylabel(\"Petal width\", fontsize=14)\n",
    "plt.legend(loc=\"upper center\", fontsize=14)\n",
    "plt.axis([0, 5.5, 0, 2])\n",
    "\n",
    "plt.show()"
   ]
  },
  {
   "cell_type": "code",
   "execution_count": 33,
   "metadata": {},
   "outputs": [],
   "source": [
    "#   Question 9: \n",
    "    #   Train an SVM classifier on the MNIST dataset. Since SVM classifiers are binary \n",
    "    #   classifiers, you will need to use one-versus-the-rest to classify all 10 digits. \n",
    "    #   You may want to tune the hyperparameters using small validation sets to speed up \n",
    "    #   the process. What accuracy can you reach?\n",
    "#Importing to fetch MNIST    \n",
    "from sklearn.datasets import fetch_openml\n",
    "mnist = fetch_openml('mnist_784', version=1, cache=True)\n",
    "\n",
    "X = mnist[\"data\"]\n",
    "y = mnist[\"target\"].astype(np.uint8)\n",
    "\n",
    "Xtraining = X[:60000]\n",
    "ytraining = y[:60000]\n",
    "Xtest = X[60000:]\n",
    "ytest = y[60000:]"
   ]
  },
  {
   "cell_type": "code",
   "execution_count": 34,
   "metadata": {},
   "outputs": [],
   "source": [
    "#after trying some standard SVC options, I referenced the solution where it shows scaling improving results\n",
    "scaler = StandardScaler()\n",
    "XtrainingStdScaled = scaler.fit_transform(Xtraining.astype(np.float32))\n",
    "XtestStdScaled = scaler.transform(Xtest.astype(np.float32))"
   ]
  },
  {
   "cell_type": "code",
   "execution_count": 35,
   "metadata": {},
   "outputs": [
    {
     "data": {
      "text/plain": [
       "SVC()"
      ]
     },
     "execution_count": 35,
     "metadata": {},
     "output_type": "execute_result"
    }
   ],
   "source": [
    "svcClassifier = SVC(gamma=\"scale\")\n",
    "svcClassifier.fit(XtrainingStdScaled[:10000], ytraining[:10000])"
   ]
  },
  {
   "cell_type": "code",
   "execution_count": 36,
   "metadata": {},
   "outputs": [
    {
     "data": {
      "text/plain": [
       "0.9455333333333333"
      ]
     },
     "execution_count": 36,
     "metadata": {},
     "output_type": "execute_result"
    }
   ],
   "source": [
    "from sklearn.metrics import accuracy_score\n",
    "scaledPredictions = svcClassifier.predict(XtrainingStdScaled)\n",
    "accuracy_score(ytraining, scaledPredictions)"
   ]
  },
  {
   "cell_type": "code",
   "execution_count": 37,
   "metadata": {},
   "outputs": [
    {
     "name": "stdout",
     "output_type": "stream",
     "text": [
      "Fitting 3 folds for each of 10 candidates, totalling 30 fits\n",
      "[CV] C=8.796910002727692, gamma=0.015620693675639861 .................\n"
     ]
    },
    {
     "name": "stderr",
     "output_type": "stream",
     "text": [
      "[Parallel(n_jobs=1)]: Using backend SequentialBackend with 1 concurrent workers.\n"
     ]
    },
    {
     "name": "stdout",
     "output_type": "stream",
     "text": [
      "[CV] .. C=8.796910002727692, gamma=0.015620693675639861, total=   0.9s\n",
      "[CV] C=8.796910002727692, gamma=0.015620693675639861 .................\n"
     ]
    },
    {
     "name": "stderr",
     "output_type": "stream",
     "text": [
      "[Parallel(n_jobs=1)]: Done   1 out of   1 | elapsed:    0.9s remaining:    0.0s\n"
     ]
    },
    {
     "name": "stdout",
     "output_type": "stream",
     "text": [
      "[CV] .. C=8.796910002727692, gamma=0.015620693675639861, total=   0.9s\n",
      "[CV] C=8.796910002727692, gamma=0.015620693675639861 .................\n",
      "[CV] .. C=8.796910002727692, gamma=0.015620693675639861, total=   0.9s\n",
      "[CV] C=5.458327528535912, gamma=0.0015847101210439089 ................\n",
      "[CV] . C=5.458327528535912, gamma=0.0015847101210439089, total=   0.7s\n",
      "[CV] C=5.458327528535912, gamma=0.0015847101210439089 ................\n",
      "[CV] . C=5.458327528535912, gamma=0.0015847101210439089, total=   0.7s\n",
      "[CV] C=5.458327528535912, gamma=0.0015847101210439089 ................\n",
      "[CV] . C=5.458327528535912, gamma=0.0015847101210439089, total=   0.7s\n",
      "[CV] C=5.592488919658671, gamma=0.004649617447336332 .................\n",
      "[CV] .. C=5.592488919658671, gamma=0.004649617447336332, total=   0.8s\n",
      "[CV] C=5.592488919658671, gamma=0.004649617447336332 .................\n",
      "[CV] .. C=5.592488919658671, gamma=0.004649617447336332, total=   0.8s\n",
      "[CV] C=5.592488919658671, gamma=0.004649617447336332 .................\n",
      "[CV] .. C=5.592488919658671, gamma=0.004649617447336332, total=   0.8s\n",
      "[CV] C=2.428668179219408, gamma=0.020034427927560723 .................\n",
      "[CV] .. C=2.428668179219408, gamma=0.020034427927560723, total=   0.9s\n",
      "[CV] C=2.428668179219408, gamma=0.020034427927560723 .................\n",
      "[CV] .. C=2.428668179219408, gamma=0.020034427927560723, total=   0.9s\n",
      "[CV] C=2.428668179219408, gamma=0.020034427927560723 .................\n",
      "[CV] .. C=2.428668179219408, gamma=0.020034427927560723, total=   0.9s\n",
      "[CV] C=1.5641157902710026, gamma=0.027796975515266813 ................\n",
      "[CV] . C=1.5641157902710026, gamma=0.027796975515266813, total=   0.9s\n",
      "[CV] C=1.5641157902710026, gamma=0.027796975515266813 ................\n",
      "[CV] . C=1.5641157902710026, gamma=0.027796975515266813, total=   0.9s\n",
      "[CV] C=1.5641157902710026, gamma=0.027796975515266813 ................\n",
      "[CV] . C=1.5641157902710026, gamma=0.027796975515266813, total=   0.9s\n",
      "[CV] C=10.385527090157503, gamma=0.001003592787878091 ................\n",
      "[CV] . C=10.385527090157503, gamma=0.001003592787878091, total=   0.6s\n",
      "[CV] C=10.385527090157503, gamma=0.001003592787878091 ................\n",
      "[CV] . C=10.385527090157503, gamma=0.001003592787878091, total=   0.6s\n",
      "[CV] C=10.385527090157503, gamma=0.001003592787878091 ................\n",
      "[CV] . C=10.385527090157503, gamma=0.001003592787878091, total=   0.6s\n",
      "[CV] C=10.922115592912174, gamma=0.017177621112338375 ................\n",
      "[CV] . C=10.922115592912174, gamma=0.017177621112338375, total=   0.8s\n",
      "[CV] C=10.922115592912174, gamma=0.017177621112338375 ................\n",
      "[CV] . C=10.922115592912174, gamma=0.017177621112338375, total=   0.9s\n",
      "[CV] C=10.922115592912174, gamma=0.017177621112338375 ................\n",
      "[CV] . C=10.922115592912174, gamma=0.017177621112338375, total=   0.9s\n",
      "[CV] C=7.116531604882809, gamma=0.0010330768043240405 ................\n",
      "[CV] . C=7.116531604882809, gamma=0.0010330768043240405, total=   0.6s\n",
      "[CV] C=7.116531604882809, gamma=0.0010330768043240405 ................\n",
      "[CV] . C=7.116531604882809, gamma=0.0010330768043240405, total=   0.6s\n",
      "[CV] C=7.116531604882809, gamma=0.0010330768043240405 ................\n",
      "[CV] . C=7.116531604882809, gamma=0.0010330768043240405, total=   0.6s\n",
      "[CV] C=1.2306242504141576, gamma=0.011208547084229366 ................\n",
      "[CV] . C=1.2306242504141576, gamma=0.011208547084229366, total=   0.8s\n",
      "[CV] C=1.2306242504141576, gamma=0.011208547084229366 ................\n",
      "[CV] . C=1.2306242504141576, gamma=0.011208547084229366, total=   0.8s\n",
      "[CV] C=1.2306242504141576, gamma=0.011208547084229366 ................\n",
      "[CV] . C=1.2306242504141576, gamma=0.011208547084229366, total=   0.8s\n",
      "[CV] C=4.998609717152554, gamma=0.001239742034078414 .................\n",
      "[CV] .. C=4.998609717152554, gamma=0.001239742034078414, total=   0.6s\n",
      "[CV] C=4.998609717152554, gamma=0.001239742034078414 .................\n",
      "[CV] .. C=4.998609717152554, gamma=0.001239742034078414, total=   0.6s\n",
      "[CV] C=4.998609717152554, gamma=0.001239742034078414 .................\n",
      "[CV] .. C=4.998609717152554, gamma=0.001239742034078414, total=   0.6s\n"
     ]
    },
    {
     "name": "stderr",
     "output_type": "stream",
     "text": [
      "[Parallel(n_jobs=1)]: Done  30 out of  30 | elapsed:   22.5s finished\n"
     ]
    },
    {
     "data": {
      "text/plain": [
       "RandomizedSearchCV(cv=3, estimator=SVC(),\n",
       "                   param_distributions={'C': <scipy.stats._distn_infrastructure.rv_frozen object at 0x7fa384d51ac0>,\n",
       "                                        'gamma': <scipy.stats._distn_infrastructure.rv_frozen object at 0x7fa384db4fa0>},\n",
       "                   verbose=2)"
      ]
     },
     "execution_count": 37,
     "metadata": {},
     "output_type": "execute_result"
    }
   ],
   "source": [
    "from sklearn.model_selection import RandomizedSearchCV\n",
    "from scipy.stats import reciprocal, uniform\n",
    "\n",
    "randomSearchParameters = {\"gamma\": reciprocal(0.001, 0.1), \"C\": uniform(1, 10)} \n",
    "randomSearchCV = RandomizedSearchCV(svcClassifier, randomSearchParameters, n_iter=10, verbose=2, cv=3)\n",
    "randomSearchCV.fit(XtrainingStdScaled[:1000], ytraining[:1000])"
   ]
  },
  {
   "cell_type": "code",
   "execution_count": 38,
   "metadata": {},
   "outputs": [
    {
     "data": {
      "text/plain": [
       "SVC(C=4.998609717152554, gamma=0.001239742034078414)"
      ]
     },
     "execution_count": 38,
     "metadata": {},
     "output_type": "execute_result"
    }
   ],
   "source": [
    "#Results\n",
    "randomSearchCV.best_estimator_"
   ]
  },
  {
   "cell_type": "code",
   "execution_count": 39,
   "metadata": {},
   "outputs": [
    {
     "data": {
      "text/plain": [
       "0.8639927352502204"
      ]
     },
     "execution_count": 39,
     "metadata": {},
     "output_type": "execute_result"
    }
   ],
   "source": [
    "randomSearchCV.best_score_"
   ]
  },
  {
   "cell_type": "code",
   "execution_count": 40,
   "metadata": {},
   "outputs": [
    {
     "data": {
      "text/plain": [
       "SVC(C=4.998609717152554, gamma=0.001239742034078414)"
      ]
     },
     "execution_count": 40,
     "metadata": {},
     "output_type": "execute_result"
    }
   ],
   "source": [
    "randomSearchCV.best_estimator_.fit(XtrainingStdScaled, ytraining)"
   ]
  },
  {
   "cell_type": "code",
   "execution_count": 41,
   "metadata": {},
   "outputs": [],
   "source": [
    "predictions = randomSearchCV.best_estimator_.predict(XtrainingStdScaled)"
   ]
  },
  {
   "cell_type": "code",
   "execution_count": 42,
   "metadata": {},
   "outputs": [
    {
     "data": {
      "text/plain": [
       "0.997"
      ]
     },
     "execution_count": 42,
     "metadata": {},
     "output_type": "execute_result"
    }
   ],
   "source": [
    "accuracy_score(ytraining, predictions)"
   ]
  },
  {
   "cell_type": "code",
   "execution_count": 43,
   "metadata": {},
   "outputs": [
    {
     "data": {
      "text/plain": [
       "0.9728"
      ]
     },
     "execution_count": 43,
     "metadata": {},
     "output_type": "execute_result"
    }
   ],
   "source": [
    "predictions = randomSearchCV.best_estimator_.predict(XtestStdScaled)\n",
    "accuracy_score(ytest, predictions)"
   ]
  },
  {
   "cell_type": "code",
   "execution_count": 44,
   "metadata": {},
   "outputs": [],
   "source": [
    "#   Question 10:\n",
    "    #   Train an SVM regressor on the California housing dataset."
   ]
  },
  {
   "cell_type": "code",
   "execution_count": 45,
   "metadata": {},
   "outputs": [],
   "source": [
    "#Fetching housing data\n",
    "from sklearn.datasets import fetch_california_housing\n",
    "\n",
    "housing = fetch_california_housing()\n",
    "X = housing[\"data\"]\n",
    "y = housing[\"target\"]"
   ]
  },
  {
   "cell_type": "code",
   "execution_count": 46,
   "metadata": {},
   "outputs": [],
   "source": [
    "#Use scikit to split 1/4 of the data\n",
    "from sklearn.model_selection import train_test_split\n",
    "\n",
    "Xtraining, Xtest, ytraining, ytest = train_test_split(X, y, test_size=0.25)"
   ]
  },
  {
   "cell_type": "code",
   "execution_count": 47,
   "metadata": {},
   "outputs": [],
   "source": [
    "# Scaling data as some values, like the estimated values will be well over the $100,000 range\n",
    "from sklearn.preprocessing import StandardScaler\n",
    "\n",
    "scaler = StandardScaler()\n",
    "XtrainingScaled = scaler.fit_transform(Xtraining)\n",
    "XtestScaled = scaler.transform(Xtest)"
   ]
  },
  {
   "cell_type": "code",
   "execution_count": 48,
   "metadata": {},
   "outputs": [
    {
     "name": "stderr",
     "output_type": "stream",
     "text": [
      "/Users/hunterroy/opt/anaconda3/envs/jupyterlab/lib/python3.8/site-packages/sklearn/svm/_base.py:976: ConvergenceWarning: Liblinear failed to converge, increase the number of iterations.\n",
      "  warnings.warn(\"Liblinear failed to converge, increase \"\n"
     ]
    },
    {
     "data": {
      "text/plain": [
       "LinearSVR()"
      ]
     },
     "execution_count": 48,
     "metadata": {},
     "output_type": "execute_result"
    }
   ],
   "source": [
    "#Linear SVR\n",
    "from sklearn.svm import LinearSVR\n",
    "\n",
    "linearSVR = LinearSVR()\n",
    "linearSVR.fit(XtrainingScaled, ytraining)"
   ]
  },
  {
   "cell_type": "code",
   "execution_count": 49,
   "metadata": {},
   "outputs": [],
   "source": [
    "from sklearn.metrics import mean_squared_error\n",
    "\n",
    "predictions = linearSVR.predict(XtrainingScaled)\n",
    "mse = mean_squared_error(ytraining, predictions)"
   ]
  },
  {
   "cell_type": "code",
   "execution_count": 50,
   "metadata": {},
   "outputs": [
    {
     "data": {
      "text/plain": [
       "0.9555572499047832"
      ]
     },
     "execution_count": 50,
     "metadata": {},
     "output_type": "execute_result"
    }
   ],
   "source": [
    "np.sqrt(mse)"
   ]
  },
  {
   "cell_type": "code",
   "execution_count": 51,
   "metadata": {},
   "outputs": [
    {
     "name": "stderr",
     "output_type": "stream",
     "text": [
      "[Parallel(n_jobs=1)]: Using backend SequentialBackend with 1 concurrent workers.\n"
     ]
    },
    {
     "name": "stdout",
     "output_type": "stream",
     "text": [
      "Fitting 3 folds for each of 10 candidates, totalling 30 fits\n",
      "[CV] C=1.0958601774146761, gamma=0.0010818997993297015 ...............\n",
      "[CV]  C=1.0958601774146761, gamma=0.0010818997993297015, total=   3.8s\n",
      "[CV] C=1.0958601774146761, gamma=0.0010818997993297015 ...............\n"
     ]
    },
    {
     "name": "stderr",
     "output_type": "stream",
     "text": [
      "[Parallel(n_jobs=1)]: Done   1 out of   1 | elapsed:    3.8s remaining:    0.0s\n"
     ]
    },
    {
     "name": "stdout",
     "output_type": "stream",
     "text": [
      "[CV]  C=1.0958601774146761, gamma=0.0010818997993297015, total=   3.8s\n",
      "[CV] C=1.0958601774146761, gamma=0.0010818997993297015 ...............\n",
      "[CV]  C=1.0958601774146761, gamma=0.0010818997993297015, total=   3.3s\n",
      "[CV] C=5.075429379342161, gamma=0.002858611840238359 .................\n",
      "[CV] .. C=5.075429379342161, gamma=0.002858611840238359, total=   3.3s\n",
      "[CV] C=5.075429379342161, gamma=0.002858611840238359 .................\n",
      "[CV] .. C=5.075429379342161, gamma=0.002858611840238359, total=   3.3s\n",
      "[CV] C=5.075429379342161, gamma=0.002858611840238359 .................\n",
      "[CV] .. C=5.075429379342161, gamma=0.002858611840238359, total=   3.3s\n",
      "[CV] C=2.573377058000477, gamma=0.017007952380865003 .................\n",
      "[CV] .. C=2.573377058000477, gamma=0.017007952380865003, total=   3.3s\n",
      "[CV] C=2.573377058000477, gamma=0.017007952380865003 .................\n",
      "[CV] .. C=2.573377058000477, gamma=0.017007952380865003, total=   3.4s\n",
      "[CV] C=2.573377058000477, gamma=0.017007952380865003 .................\n",
      "[CV] .. C=2.573377058000477, gamma=0.017007952380865003, total=   3.3s\n",
      "[CV] C=10.950950426131811, gamma=0.0022672865266181235 ...............\n",
      "[CV]  C=10.950950426131811, gamma=0.0022672865266181235, total=   3.4s\n",
      "[CV] C=10.950950426131811, gamma=0.0022672865266181235 ...............\n",
      "[CV]  C=10.950950426131811, gamma=0.0022672865266181235, total=   3.3s\n",
      "[CV] C=10.950950426131811, gamma=0.0022672865266181235 ...............\n",
      "[CV]  C=10.950950426131811, gamma=0.0022672865266181235, total=   3.4s\n",
      "[CV] C=6.464214242139388, gamma=0.0017356215267329573 ................\n",
      "[CV] . C=6.464214242139388, gamma=0.0017356215267329573, total=   3.3s\n",
      "[CV] C=6.464214242139388, gamma=0.0017356215267329573 ................\n",
      "[CV] . C=6.464214242139388, gamma=0.0017356215267329573, total=   3.3s\n",
      "[CV] C=6.464214242139388, gamma=0.0017356215267329573 ................\n",
      "[CV] . C=6.464214242139388, gamma=0.0017356215267329573, total=   3.2s\n",
      "[CV] C=10.34236441072139, gamma=0.0038327486305615886 ................\n",
      "[CV] . C=10.34236441072139, gamma=0.0038327486305615886, total=   3.4s\n",
      "[CV] C=10.34236441072139, gamma=0.0038327486305615886 ................\n",
      "[CV] . C=10.34236441072139, gamma=0.0038327486305615886, total=   3.3s\n",
      "[CV] C=10.34236441072139, gamma=0.0038327486305615886 ................\n",
      "[CV] . C=10.34236441072139, gamma=0.0038327486305615886, total=   3.3s\n",
      "[CV] C=9.783398200433783, gamma=0.003682585836528603 .................\n",
      "[CV] .. C=9.783398200433783, gamma=0.003682585836528603, total=   3.4s\n",
      "[CV] C=9.783398200433783, gamma=0.003682585836528603 .................\n",
      "[CV] .. C=9.783398200433783, gamma=0.003682585836528603, total=   3.4s\n",
      "[CV] C=9.783398200433783, gamma=0.003682585836528603 .................\n",
      "[CV] .. C=9.783398200433783, gamma=0.003682585836528603, total=   3.4s\n",
      "[CV] C=9.060524801867196, gamma=0.002622784853057891 .................\n",
      "[CV] .. C=9.060524801867196, gamma=0.002622784853057891, total=   3.3s\n",
      "[CV] C=9.060524801867196, gamma=0.002622784853057891 .................\n",
      "[CV] .. C=9.060524801867196, gamma=0.002622784853057891, total=   3.3s\n",
      "[CV] C=9.060524801867196, gamma=0.002622784853057891 .................\n",
      "[CV] .. C=9.060524801867196, gamma=0.002622784853057891, total=   3.3s\n",
      "[CV] C=3.927894301534444, gamma=0.002426334820253862 .................\n",
      "[CV] .. C=3.927894301534444, gamma=0.002426334820253862, total=   3.3s\n",
      "[CV] C=3.927894301534444, gamma=0.002426334820253862 .................\n",
      "[CV] .. C=3.927894301534444, gamma=0.002426334820253862, total=   3.2s\n",
      "[CV] C=3.927894301534444, gamma=0.002426334820253862 .................\n",
      "[CV] .. C=3.927894301534444, gamma=0.002426334820253862, total=   3.2s\n",
      "[CV] C=3.6425987784965566, gamma=0.04674460676495714 .................\n",
      "[CV] .. C=3.6425987784965566, gamma=0.04674460676495714, total=   3.9s\n",
      "[CV] C=3.6425987784965566, gamma=0.04674460676495714 .................\n",
      "[CV] .. C=3.6425987784965566, gamma=0.04674460676495714, total=   3.6s\n",
      "[CV] C=3.6425987784965566, gamma=0.04674460676495714 .................\n",
      "[CV] .. C=3.6425987784965566, gamma=0.04674460676495714, total=   3.6s\n"
     ]
    },
    {
     "name": "stderr",
     "output_type": "stream",
     "text": [
      "[Parallel(n_jobs=1)]: Done  30 out of  30 | elapsed:  1.7min finished\n"
     ]
    },
    {
     "data": {
      "text/plain": [
       "RandomizedSearchCV(cv=3, estimator=SVR(),\n",
       "                   param_distributions={'C': <scipy.stats._distn_infrastructure.rv_frozen object at 0x7fa384cd8c10>,\n",
       "                                        'gamma': <scipy.stats._distn_infrastructure.rv_frozen object at 0x7fa384b66b20>},\n",
       "                   verbose=2)"
      ]
     },
     "execution_count": 51,
     "metadata": {},
     "output_type": "execute_result"
    }
   ],
   "source": [
    "# SVR and \n",
    "from sklearn.svm import SVR\n",
    "from sklearn.model_selection import RandomizedSearchCV\n",
    "from scipy.stats import reciprocal, uniform\n",
    "\n",
    "param_distributions = {\"gamma\": reciprocal(0.001, 0.1), \"C\": uniform(1, 10)}\n",
    "randSearch = RandomizedSearchCV(SVR(), param_distributions, n_iter=10, verbose=2, cv=3)\n",
    "randSearch.fit(XtrainingScaled, ytraining)"
   ]
  },
  {
   "cell_type": "code",
   "execution_count": 52,
   "metadata": {},
   "outputs": [
    {
     "data": {
      "text/plain": [
       "SVR(C=3.6425987784965566, gamma=0.04674460676495714)"
      ]
     },
     "execution_count": 52,
     "metadata": {},
     "output_type": "execute_result"
    }
   ],
   "source": [
    "randSearch.best_estimator_"
   ]
  },
  {
   "cell_type": "code",
   "execution_count": 53,
   "metadata": {},
   "outputs": [
    {
     "data": {
      "text/plain": [
       "0.60432633628129"
      ]
     },
     "execution_count": 53,
     "metadata": {},
     "output_type": "execute_result"
    }
   ],
   "source": [
    "predictions = randSearch.best_estimator_.predict(XtrainingScaled)\n",
    "mse = mean_squared_error(ytraining, predictions)\n",
    "np.sqrt(mse)"
   ]
  },
  {
   "cell_type": "code",
   "execution_count": 55,
   "metadata": {},
   "outputs": [
    {
     "data": {
      "text/plain": [
       "0.6018663123054411"
      ]
     },
     "execution_count": 55,
     "metadata": {},
     "output_type": "execute_result"
    }
   ],
   "source": [
    "predictions = randSearch.best_estimator_.predict(XtestScaled)\n",
    "mse = mean_squared_error(ytest, predictions)\n",
    "np.sqrt(mse)"
   ]
  },
  {
   "cell_type": "code",
   "execution_count": null,
   "metadata": {},
   "outputs": [],
   "source": []
  },
  {
   "cell_type": "code",
   "execution_count": null,
   "metadata": {},
   "outputs": [],
   "source": []
  },
  {
   "cell_type": "code",
   "execution_count": null,
   "metadata": {},
   "outputs": [],
   "source": []
  }
 ],
 "metadata": {
  "kernelspec": {
   "display_name": "Python 3",
   "language": "python",
   "name": "python3"
  },
  "language_info": {
   "codemirror_mode": {
    "name": "ipython",
    "version": 3
   },
   "file_extension": ".py",
   "mimetype": "text/x-python",
   "name": "python",
   "nbconvert_exporter": "python",
   "pygments_lexer": "ipython3",
   "version": "3.8.5"
  }
 },
 "nbformat": 4,
 "nbformat_minor": 4
}
