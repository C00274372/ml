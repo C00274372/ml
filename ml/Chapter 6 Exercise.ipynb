{
 "cells": [
  {
   "cell_type": "code",
   "execution_count": 1,
   "metadata": {},
   "outputs": [
    {
     "name": "stdout",
     "output_type": "stream",
     "text": [
      "\n"
     ]
    }
   ],
   "source": [
    "\"\"\" Question #1:\n",
    "        What is the approximate depth of a Decision Tree trained (without restrictions) on a training set with one million instances?\n",
    "            This depends on the balance of the tree, if we consider a perfectly balanced binary tree, we know that the max depth is log_2(# of nodes)\n",
    "        A perfectly skewed tree, meaning no balance at all, would be 1,000,000 deep, but that would not be a realistic result. A realistic result is\n",
    "        a fairly balanced tree with a depth a little above 20, between 21 and 30 is a realistic approximation.\n",
    "        \n",
    "    Question #3:\n",
    "        If a Decision Tree is overfitting the training set, is it a good idea to try decreasing max_depth?\n",
    "            The chapter states, \"Increasing min_* hyperparameters or reducing max_* hyperparameters will regularize the model.\" Regularization is\n",
    "        one way of preventing/reducing overfitting, so decreasing max_depth of the Decision tree would definitelty be a good solution to prevent \n",
    "        overfitting.\n",
    "        \n",
    "    Question #4:\n",
    "        If a Decision Tree is underfitting the training set, is it a good idea to try scaling the input features?\n",
    "            It is not a bad idea so much as a useless idea. Decision trees do not benefit from from scaling, so this would not improve the fit to the training set.\n",
    "            \n",
    "\"\"\"\n",
    "print()"
   ]
  },
  {
   "cell_type": "code",
   "execution_count": 2,
   "metadata": {},
   "outputs": [
    {
     "name": "stdout",
     "output_type": "stream",
     "text": [
      "Fitting 3 folds for each of 294 candidates, totalling 882 fits\n"
     ]
    },
    {
     "name": "stderr",
     "output_type": "stream",
     "text": [
      "[Parallel(n_jobs=1)]: Using backend SequentialBackend with 1 concurrent workers.\n",
      "[Parallel(n_jobs=1)]: Done 882 out of 882 | elapsed:    5.1s finished\n"
     ]
    },
    {
     "data": {
      "text/plain": [
       "GridSearchCV(cv=3, estimator=DecisionTreeClassifier(),\n",
       "             param_grid={'max_leaf_nodes': [2, 3, 4, 5, 6, 7, 8, 9, 10, 11, 12,\n",
       "                                            13, 14, 15, 16, 17, 18, 19, 20, 21,\n",
       "                                            22, 23, 24, 25, 26, 27, 28, 29, 30,\n",
       "                                            31, ...],\n",
       "                         'min_samples_split': [2, 3, 4]},\n",
       "             verbose=1)"
      ]
     },
     "execution_count": 2,
     "metadata": {},
     "output_type": "execute_result"
    }
   ],
   "source": [
    "#   Question #7:\n",
    "#       Train and fine-tune a Decision Tree for the moons dataset \n",
    "from sklearn.datasets import make_moons\n",
    "from sklearn.model_selection import train_test_split\n",
    "from sklearn.tree import DecisionTreeClassifier\n",
    "from sklearn.model_selection import GridSearchCV\n",
    "\n",
    "data, labels = make_moons(n_samples=10000, noise=0.4) # a. get data and labels\n",
    "\n",
    "dataTrain, dataTest, labelsTrain, labelsTest = train_test_split(data, labels, test_size=0.25 ) # b. split dataset into train and test sets\n",
    "\n",
    "# c. use gridSearch\n",
    "# I referenced the solution to find known-good parameters for grid search\n",
    "gridSearchCV = GridSearchCV(DecisionTreeClassifier(), {'max_leaf_nodes': list(range(2, 100)), 'min_samples_split': [2, 3, 4]}, verbose=1, cv=3)\n",
    "gridSearchCV.fit(dataTrain, labelsTrain)"
   ]
  },
  {
   "cell_type": "code",
   "execution_count": 3,
   "metadata": {},
   "outputs": [
    {
     "data": {
      "text/plain": [
       "DecisionTreeClassifier(max_leaf_nodes=23, min_samples_split=4)"
      ]
     },
     "execution_count": 3,
     "metadata": {},
     "output_type": "execute_result"
    }
   ],
   "source": [
    "gridSearchCV.best_estimator_"
   ]
  },
  {
   "cell_type": "code",
   "execution_count": 4,
   "metadata": {},
   "outputs": [
    {
     "data": {
      "text/plain": [
       "0.8612"
      ]
     },
     "execution_count": 4,
     "metadata": {},
     "output_type": "execute_result"
    }
   ],
   "source": [
    "from sklearn.metrics import accuracy_score\n",
    "\n",
    "myPredictions = gridSearchCV.predict(dataTest)\n",
    "accuracy_score(labelsTest, myPredictions)"
   ]
  },
  {
   "cell_type": "code",
   "execution_count": 5,
   "metadata": {},
   "outputs": [],
   "source": [
    "# Not great, but it could be worse"
   ]
  },
  {
   "cell_type": "code",
   "execution_count": null,
   "metadata": {},
   "outputs": [],
   "source": []
  }
 ],
 "metadata": {
  "kernelspec": {
   "display_name": "Python 3",
   "language": "python",
   "name": "python3"
  },
  "language_info": {
   "codemirror_mode": {
    "name": "ipython",
    "version": 3
   },
   "file_extension": ".py",
   "mimetype": "text/x-python",
   "name": "python",
   "nbconvert_exporter": "python",
   "pygments_lexer": "ipython3",
   "version": "3.8.5"
  }
 },
 "nbformat": 4,
 "nbformat_minor": 4
}
